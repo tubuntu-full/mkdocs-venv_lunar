{
 "cells": [
  {
   "attachments": {},
   "cell_type": "markdown",
   "id": "85d9f9a0-2da1-46b0-a853-3c83f95a1943",
   "metadata": {},
   "source": [
    "# Lunar Data "
   ]
  },
  {
   "cell_type": "markdown",
   "id": "71b46cd6-7f49-4146-b9ee-ec7d9141dc53",
   "metadata": {},
   "source": [
    "#### Lunar South Pole Lighting \n",
    "Videos below show the uniquely challenging lighting conditions at the Lunar South Pole. The long shadows make it difficult to make out the terrain features, making landing site determination a challenge. The changing day-to-day lighting and Earth views need to be factored into the mission planning.\n",
    "(Courtesy D. Eppler and N. Petro)"
   ]
  },
  {
   "cell_type": "markdown",
   "id": "14601d72-131f-4a7f-a220-d25ee00193df",
   "metadata": {},
   "source": [
    "---"
   ]
  },
  {
   "cell_type": "markdown",
   "id": "07bd961a",
   "metadata": {},
   "source": [
    "#### One Year Time-Lapsed Footage of Lunar South Pole: Low Elevation  \n",
    "\n",
    "<!-- [Lunar South Pole 2023](https://www.youtube.com/embed/XHpBK_ErIy0?start=48) -->\n",
    "<!-- [![Lunar South Pole 2023](https://img.youtube.com/vi/XHpBK_ErIy0/hqdefault.jpg)](https://www.youtube.com/watch?v=XHpBK_ErIy0&t=48s)  -->\n",
    "<iframe \n",
    "    width=\"560\" \n",
    "    height=\"315\" \n",
    "    src=\"https://www.youtube.com/embed/XHpBK_ErIy0?start=48\" \n",
    "    frameborder=\"0\" \n",
    "    allow=\"accelerometer; autoplay; clipboard-write; encrypted-media; gyroscope; picture-in-picture\" \n",
    "    allowfullscreen>\n",
    "</iframe>  \n",
    "\n",
    "Credits: NASA's Scientific Visualization Studio  \n",
    "Ernie Wright (USRA): Lead Visualizer  \n",
    "Noah Petro (NASA/GSFC): Scientist  \n",
    "Laurence Schuler (ADNET): Technical Support  \n",
    "Ian Jones (ADNET): Technical Support  "
   ]
  },
  {
   "cell_type": "markdown",
   "id": "544e350d",
   "metadata": {},
   "source": [
    "---"
   ]
  },
  {
   "cell_type": "markdown",
   "id": "35031bd3",
   "metadata": {},
   "source": [
    "#### One Year Time-Lapsed Footage of Lunar South Pole  \n",
    "<!-- [![Lunar South Pole 2025](https://img.youtube.com/vi/_wkrViMqiKs/hqdefault.jpg)](https://www.youtube.com/watch?v=_wkrViMqiKs) -->   \n",
    "\n",
    "<iframe \n",
    "    width=\"560\" \n",
    "    height=\"315\" \n",
    "    src=\"https://www.youtube.com/embed/_wkrViMqiKs\" \n",
    "    frameborder=\"0\" \n",
    "    allow=\"accelerometer; autoplay; clipboard-write; encrypted-media; gyroscope; picture-in-picture\" \n",
    "    allowfullscreen>\n",
    "</iframe>\n",
    "\n",
    "Credits: NASA's Scientific Visualization Studio  \n",
    "Ernie Wright (USRA): Lead Visualizer  \n",
    "Noah Petro (NASA/GSFC): Scientist  \n",
    "Laurence Schuler (ADNET): Technical Support  \n",
    "Ian Jones (ADNET): Technical Support  \n"
   ]
  },
  {
   "cell_type": "markdown",
   "metadata": {},
   "source": [
    "---"
   ]
  },
  {
   "cell_type": "markdown",
   "id": "b897559c",
   "metadata": {},
   "source": [
    "#### One Year Time-Lapsed Footage of Lunar South Pole: Looking Earthward  \n",
    "<!-- [![Lunar South Pole: Looking Earthward](https://img.youtube.com/vi/aD1OQ9UBwuU/0.jpg)](https://www.youtube.com/watch?v=aD1OQ9UBwuU) -->\n",
    "<!-- [![Lunar South Pole: Looking Earthward](https://img.youtube.com/vi/aD1OQ9UBwuU/hqdefault.jpg)](https://www.youtube.com/watch?v=aD1OQ9UBwuU) -->    \n",
    "<iframe \n",
    "    width=\"560\" \n",
    "    height=\"315\" \n",
    "    src=\"https://www.youtube.com/embed/aD1OQ9UBwuU\" \n",
    "    frameborder=\"0\" \n",
    "    allow=\"accelerometer; autoplay; clipboard-write; encrypted-media; gyroscope; picture-in-picture\" \n",
    "    allowfullscreen>\n",
    "</iframe>\n",
    "\n",
    "Video credit: NASA's Goddard Space Flight Center  \n",
    "Visualizations by: Ernie Wright (USRA)  \n",
    "Narrated by: Ernie Wright (USRA)  \n",
    "Produced & Edited by: David Ladd (AIMM)  \n",
    "Lead Scientist: Noah Petro (NASA/GSFC)  \n",
    "Technical Support: Laurence Schuler (ADNET), Ian Jones (ADNET)  "
   ]
  },
  {
   "cell_type": "markdown",
   "id": "b9a27b30",
   "metadata": {},
   "source": [
    "---"
   ]
  }
 ],
 "metadata": {
  "jupytext": {
   "cell_metadata_filter": "-all",
   "main_language": "python",
   "notebook_metadata_filter": "-all"
  },
  "kernelspec": {
   "display_name": "Python 3 (ipykernel)",
   "language": "python",
   "name": "python3"
  },
  "language_info": {
   "codemirror_mode": {
    "name": "ipython",
    "version": 3
   },
   "file_extension": ".py",
   "mimetype": "text/x-python",
   "name": "python",
   "nbconvert_exporter": "python",
   "pygments_lexer": "ipython3",
   "version": "3.11.0"
  }
 },
 "nbformat": 4,
 "nbformat_minor": 5
}
