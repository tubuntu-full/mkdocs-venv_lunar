{
 "cells": [
  {
   "cell_type": "markdown",
   "id": "60522e70-b190-4ba8-bd82-1ce4e69591b1",
   "metadata": {},
   "source": [
    "**Term:** &nbsp; Definition "
   ]
  },
  {
   "cell_type": "markdown",
   "id": "884d6de1-cd16-4ddb-9ec9-d8006d36c6cf",
   "metadata": {},
   "source": [
    "**Term:** &nbsp; Definition "
   ]
  },
  {
   "cell_type": "markdown",
   "id": "9d0bc043-513b-4d27-a861-e0342f8aab5d",
   "metadata": {},
   "source": [
    "**Term:** &nbsp; Definition "
   ]
  },
  {
   "cell_type": "markdown",
   "id": "2fbfb326-ec7b-4e87-8063-434ca184751f",
   "metadata": {},
   "source": [
    "**Term:** &nbsp; Definition "
   ]
  },
  {
   "cell_type": "markdown",
   "id": "78dd9450-1712-46c3-8926-658908ca43aa",
   "metadata": {},
   "source": [
    "**Term:** &nbsp; Definition "
   ]
  },
  {
   "cell_type": "markdown",
   "id": "481d711f-b675-409a-a6c9-16e41d7b8b53",
   "metadata": {},
   "source": [
    "**Term:** &nbsp; Definition "
   ]
  },
  {
   "cell_type": "markdown",
   "id": "9484ea95-752e-4249-90a5-f5f1ce6e9c84",
   "metadata": {},
   "source": [
    "**Term:** &nbsp; Definition "
   ]
  },
  {
   "cell_type": "markdown",
   "id": "9bf4f3a4-8ee6-4f58-b74f-ad3749cc6b16",
   "metadata": {},
   "source": [
    "**Term:** &nbsp; Definition "
   ]
  },
  {
   "cell_type": "markdown",
   "id": "6a672efb-8b0c-4cd0-b0ef-0a2af96662fa",
   "metadata": {},
   "source": [
    "**Term:** &nbsp; Definition "
   ]
  },
  {
   "cell_type": "markdown",
   "id": "ae9aa7ac-4cf4-4c53-9d1c-cb162df3fdbd",
   "metadata": {},
   "source": [
    "**Term:** &nbsp; Definition "
   ]
  },
  {
   "cell_type": "markdown",
   "id": "d8442988-b8e3-4c24-94ad-1f02d02b8a5a",
   "metadata": {},
   "source": [
    "**Term:** &nbsp; Definition "
   ]
  },
  {
   "cell_type": "markdown",
   "id": "2dbd21c0-fc82-4d0d-bf49-e4686672094d",
   "metadata": {},
   "source": [
    "**Term:** &nbsp; Definition "
   ]
  },
  {
   "cell_type": "markdown",
   "id": "b1c14779-ac39-4b55-8263-400f1f63174c",
   "metadata": {},
   "source": [
    "**Term:** &nbsp; Definition "
   ]
  },
  {
   "cell_type": "markdown",
   "id": "e602215f-11e9-4538-b68d-9560a7b10b54",
   "metadata": {},
   "source": [
    "**Term:** &nbsp; Definition "
   ]
  }
 ],
 "metadata": {
  "jupytext": {
   "cell_metadata_filter": "-all",
   "main_language": "python",
   "notebook_metadata_filter": "-all"
  },
  "kernelspec": {
   "display_name": "\"Python/Mu (mu_venv-38-20220921-053148)\"",
   "language": "python",
   "name": "mu_venv-38-20220921-053148"
  },
  "language_info": {
   "codemirror_mode": {
    "name": "ipython",
    "version": 3
   },
   "file_extension": ".py",
   "mimetype": "text/x-python",
   "name": "python",
   "nbconvert_exporter": "python",
   "pygments_lexer": "ipython3",
   "version": "3.8.12"
  }
 },
 "nbformat": 4,
 "nbformat_minor": 5
}
