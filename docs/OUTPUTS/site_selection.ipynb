{
 "cells": [
  {
   "cell_type": "markdown",
   "id": "bf685044-f2df-4d20-9270-ea084bb6502a",
   "metadata": {},
   "source": [
    "# Site Selection"
   ]
  },
  {
   "cell_type": "code",
   "execution_count": 1,
   "id": "de904f44-6756-4016-ab0a-8407e2b6a5a8",
   "metadata": {},
   "outputs": [],
   "source": [
    "# Methodology"
   ]
  },
  {
   "cell_type": "markdown",
   "id": "14ac1b93-a6f9-46df-b66e-2c9e41fc54a1",
   "metadata": {},
   "source": [
    ". . . "
   ]
  },
  {
   "cell_type": "code",
   "execution_count": 2,
   "id": "c8af9531-7108-47af-87ab-761895dd1bb3",
   "metadata": {},
   "outputs": [],
   "source": [
    "# Criteria"
   ]
  },
  {
   "cell_type": "markdown",
   "id": "46fdd1cc-48e9-4ecd-978a-db596e18577d",
   "metadata": {},
   "source": [
    ". . . "
   ]
  }
 ],
 "metadata": {
  "kernelspec": {
   "display_name": "Python 3 (ipykernel)",
   "language": "python",
   "name": "python3"
  },
  "language_info": {
   "codemirror_mode": {
    "name": "ipython",
    "version": 3
   },
   "file_extension": ".py",
   "mimetype": "text/x-python",
   "name": "python",
   "nbconvert_exporter": "python",
   "pygments_lexer": "ipython3",
   "version": "3.11.0"
  }
 },
 "nbformat": 4,
 "nbformat_minor": 5
}
