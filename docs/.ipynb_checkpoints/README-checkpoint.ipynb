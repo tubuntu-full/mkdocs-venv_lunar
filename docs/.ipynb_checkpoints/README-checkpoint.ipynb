{
 "cells": [
  {
   "cell_type": "markdown",
   "id": "7d7ca11f-2efe-4281-abca-a1032ecf1200",
   "metadata": {},
   "source": [
    "\n",
    "**Tips**  \n",
    "If issues with version control,  \n",
    "1. rm -rf site  \n",
    "\n",
    "If this doesn't work. . .   \n",
    "1. Delete the remote repository   \n",
    "2. ./create.sh  to create a repo fresh  \n",
    "3. ./update.sh  to update repo\n",
    "\n",
    "\n",
    "If this doesn't work. . .   \n",
    "1. create a new folder, rename, start over  "
   ]
  },
  {
   "cell_type": "markdown",
   "id": "be99e91c-2dee-45cf-b73d-62e8821ca69b",
   "metadata": {},
   "source": [
    "\n",
    "**Include these in the requirements.txt file**  \n",
    "mkdocs  \n",
    "mkdocs-jupyter  \n",
    "mkdocs-mermaid2-plugin  \n",
    "pymdown-extensions  \n",
    "mkdocs-blogging-plugin  \n",
    "mkdocs-git-revision-date-plugin  \n",
    "pymdown-extensions\n",
    "\n"
   ]
  },
  {
   "cell_type": "markdown",
   "id": "079a0245-d650-4a0f-b53d-a0e3d99c1897",
   "metadata": {},
   "source": [
    "\n",
    "**Other pip install options**  \n",
    "mknotebooks  # but don't use simultaneously with mkdocs-jupyter   \n",
    "nbconvert  # might be already satisfied\n"
   ]
  },
  {
   "cell_type": "markdown",
   "id": "f1d5b6b4-18c0-48cc-af3f-bb1f2be30ff8",
   "metadata": {},
   "source": [
    "**To convert .ipynb to other file formats**  \n",
    "\n",
    "jupyter nbconvert --to markdown my_notebook.ipynb\n",
    "jupyter nbconvert --to html my_notebook.ipynb\n",
    "jupyter nbconvert --to pdf my_notebook.ipynb\n"
   ]
  },
  {
   "cell_type": "markdown",
   "id": "72016dcd-f68c-4e2d-9d8a-8f6b42298f1a",
   "metadata": {},
   "source": [
    "**Standard Markdown doesn't underline text**    \n",
    "Do this instead:    \n",
    " \n",
    "<u>**This text is underlined**</u>  \n",
    "<u>*This text is underlined*</u>\n",
    "\n"
   ]
  },
  {
   "cell_type": "code",
   "execution_count": null,
   "id": "32e7d652-4b77-4d98-8947-af3a6acb48b6",
   "metadata": {},
   "outputs": [],
   "source": []
  }
 ],
 "metadata": {
  "kernelspec": {
   "display_name": "Python 3 (ipykernel)",
   "language": "python",
   "name": "python3"
  },
  "language_info": {
   "codemirror_mode": {
    "name": "ipython",
    "version": 3
   },
   "file_extension": ".py",
   "mimetype": "text/x-python",
   "name": "python",
   "nbconvert_exporter": "python",
   "pygments_lexer": "ipython3",
   "version": "3.11.0"
  }
 },
 "nbformat": 4,
 "nbformat_minor": 5
}
